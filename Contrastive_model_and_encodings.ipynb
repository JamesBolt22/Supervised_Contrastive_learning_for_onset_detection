{
  "cells": [
    {
      "cell_type": "markdown",
      "metadata": {
        "id": "view-in-github",
        "colab_type": "text"
      },
      "source": [
        "<a href=\"https://colab.research.google.com/github/JamesBolt22/Supervised_Contrastive_learning_for_onset_detection/blob/main/Contrastive_model_and_encodings.ipynb\" target=\"_parent\"><img src=\"https://colab.research.google.com/assets/colab-badge.svg\" alt=\"Open In Colab\"/></a>"
      ]
    },
    {
      "cell_type": "code",
      "execution_count": null,
      "metadata": {
        "id": "vzfsW0X5UDhb",
        "cellView": "form"
      },
      "outputs": [],
      "source": [
        "#@title Import Libraries\n",
        "%matplotlib inline\n",
        "import matplotlib.pyplot as plt\n",
        "import tensorflow as tf\n",
        "from tensorflow import keras\n",
        "import numpy as np\n",
        "import math\n",
        "import h5py\n",
        "import keras.backend as K\n",
        "import glob"
      ]
    },
    {
      "cell_type": "code",
      "execution_count": null,
      "metadata": {
        "cellView": "form",
        "id": "3o75N0zmUdlK"
      },
      "outputs": [],
      "source": [
        "#@title Plot Spec\n",
        "def plot_spec(spectrogram):\n",
        "    \n",
        "    fig, ax = plt.subplots(nrows=1, sharex=True, figsize=(10,10))\n",
        "    cax = ax.matshow(spectrogram, aspect='auto', origin='lower')"
      ]
    },
    {
      "cell_type": "code",
      "execution_count": null,
      "metadata": {
        "id": "seZvwb9OAFZd",
        "cellView": "form"
      },
      "outputs": [],
      "source": [
        "#@title Load fold data\n",
        "\n",
        "with h5py.File('/content/drive/MyDrive/data_fold_0/train_data.h5', 'r') as hf:\n",
        "    train_data = hf[\"input_data\"][:]\n",
        "with h5py.File('/content/drive/MyDrive/data_fold_0/train_labels.h5', 'r') as hf:\n",
        "    train_label = hf[\"input_data\"][:]\n",
        "\n",
        "with h5py.File('/content/drive/MyDrive/data_fold_0/val_data.h5', 'r') as hf:\n",
        "    val_data = hf[\"input_data\"][:]\n",
        "with h5py.File('/content/drive/MyDrive/data_fold_0/val_label.h5', 'r') as hf:\n",
        "    val_label = hf[\"input_data\"][:]\n",
        "\n",
        "with h5py.File('/content/drive/MyDrive/data_fold_0/weights_data.h5', 'r') as hf:\n",
        "    train_weights = hf[\"input_data\"][:]    "
      ]
    },
    {
      "cell_type": "code",
      "execution_count": null,
      "metadata": {
        "cellView": "form",
        "id": "WkMrQT82GcM4"
      },
      "outputs": [],
      "source": [
        "#@title Combine val data\n",
        "val_full = (val_data, val_label)"
      ]
    },
    {
      "cell_type": "code",
      "execution_count": null,
      "metadata": {
        "id": "kNoWhYjUzihB",
        "cellView": "form"
      },
      "outputs": [],
      "source": [
        "#@title Encoder\n",
        "\n",
        "#Creates the encoder network\n",
        "def new_encoder(input_shape, projection_size):  \n",
        "\n",
        "  inputs = keras.Input(shape=input_shape)\n",
        "\n",
        "  x = tf.keras.layers.Conv2D(filters=10, kernel_size=(3,7), strides=1, activation=\"relu\")(inputs)\n",
        "\n",
        "  x = tf.keras.layers.MaxPooling2D(pool_size=(3,1))(x)\n",
        "\n",
        "  x = tf.keras.layers.Conv2D(filters=20, kernel_size=(3,3), strides=1, activation=\"relu\")(x)\n",
        "\n",
        "  x = tf.keras.layers.MaxPooling2D(pool_size=(3,1))(x)\n",
        "\n",
        "  x = tf.keras.layers.Flatten()(x)\n",
        "\n",
        "  x = tf.keras.layers.Dense(2048, activation = \"relu\")(x)\n",
        "\n",
        "  x = tf.keras.layers.Lambda(lambda x: K.l2_normalize(x,axis=1))(x)\n",
        "  \n",
        "  x = tf.keras.layers.Dense(projection_size, activation = \"relu\")(x)\n",
        "\n",
        "  outputs = tf.keras.layers.Lambda(lambda x: K.l2_normalize(x,axis=1))(x)\n",
        "\n",
        "  model = tf.keras.Model(inputs=inputs, outputs=outputs)\n",
        "\n",
        "  return model"
      ]
    },
    {
      "cell_type": "code",
      "execution_count": null,
      "metadata": {
        "id": "576jC7V6Urox",
        "cellView": "form"
      },
      "outputs": [],
      "source": [
        "#@title Classifier\n",
        "\n",
        "#Creates the classifier network\n",
        "def create_classifier(encoder, trainable=True):\n",
        "\n",
        "    #determines whether encoder weights should be frozen\n",
        "    for layer in encoder.layers:\n",
        "        layer.trainable = trainable\n",
        "\n",
        "    inputs = tf.keras.Input(shape=input_shape)\n",
        "    features = encoder(inputs)\n",
        "    features  = tf.keras.layers.Dropout(0.5)(features)\n",
        "    features = tf.keras.layers.Dense(128, activation=\"relu\")(features)\n",
        "    outputs = tf.keras.layers.Dense(1, activation=\"sigmoid\")(features)\n",
        "    class_model = tf.keras.Model(inputs=inputs, outputs=outputs, name=\"classifier\")\n",
        "    class_model.compile(optimizer = tf.keras.optimizers.Adam() ,loss = tf.keras.losses.BinaryCrossentropy(),metrics=tf.keras.metrics.BinaryAccuracy())\n",
        "    return class_model"
      ]
    },
    {
      "cell_type": "code",
      "execution_count": null,
      "metadata": {
        "id": "L-IRTauNUs9R",
        "cellView": "form"
      },
      "outputs": [],
      "source": [
        "#@title Supervised Contrastive Loss\n",
        "class SupervisedContrastiveLoss(tf.keras.losses.Loss):\n",
        "    \n",
        "    def __init__(self, temperature=1, name=None):\n",
        "        super(SupervisedContrastiveLoss, self).__init__(name=name)\n",
        "        self.temperature = temperature\n",
        "\n",
        "    def __call__(self, labels, feature_vectors, sample_weight=None):\n",
        "\n",
        "        #feature_vectors = tf.math.l2_normalize(feature_vectors, axis = 1)\n",
        "        batch_size = tf.shape(labels)[0]\n",
        "        #creates positive anchor mask\n",
        "        mask = tf.cast(tf.equal(labels, tf.transpose(labels)), tf.float32)\n",
        "\n",
        "        #creates diagonal mask\n",
        "        diagonal_mask = tf.ones_like(mask) - tf.eye(batch_size)\n",
        "        mask = mask * diagonal_mask\n",
        "    \n",
        "\n",
        "        #creates dot product between the feature vectors\n",
        "        dot_tensor = tf.math.divide(tf.linalg.matmul(feature_vectors,tf.transpose(feature_vectors)),self.temperature)\n",
        "        max_dot_tensor = tf.reduce_max(dot_tensor, axis=1, keepdims=True)\n",
        "        dot_tensor = dot_tensor - max_dot_tensor\n",
        "        \n",
        "        #take exponential of all values in tensor\n",
        "        exp_tensor = tf.math.exp(dot_tensor) \n",
        "        \n",
        "        #removes the diagonals\n",
        "        exp_tensor_no_diagonal = exp_tensor * diagonal_mask\n",
        "        \n",
        "        \n",
        "        #take summation of rows of tensor\n",
        "        denominator_summations = tf.reduce_sum(exp_tensor_no_diagonal, 1, keepdims = True)\n",
        "\n",
        "        #Creates the final fraction\n",
        "        log_prob = dot_tensor - tf.math.log(denominator_summations) * diagonal_mask\n",
        "        \n",
        "        #summates across all positives\n",
        "        mean_log_prob = tf.divide(tf.reduce_sum(log_prob * mask, 1, keepdims = True), tf.reduce_sum(mask,1, keepdims = True))\n",
        "        total_loss = - mean_log_prob * (self.temperature/0.07)\n",
        "\n",
        "        return total_loss"
      ]
    },
    {
      "cell_type": "code",
      "execution_count": null,
      "metadata": {
        "id": "fn07lqwnj3Ep",
        "cellView": "form"
      },
      "outputs": [],
      "source": [
        "#@title Create encoder\n",
        "\n",
        "#Creates and compiles the encoded with projection layers\n",
        "def contrastive_encoder(input_shape, projection_size): \n",
        "\n",
        "    encoder = new_encoder(input_shape, projection_size)\n",
        "    optimizer = tf.keras.optimizers.Adam(0.005) \n",
        "    encoder.compile(optimizer=optimizer,loss=SupervisedContrastiveLoss(temperature),metrics=tf.keras.metrics.CosineSimilarity())\n",
        "    \n",
        "    return encoder"
      ]
    },
    {
      "cell_type": "code",
      "execution_count": null,
      "metadata": {
        "id": "iI8u3NStUvcx",
        "cellView": "form"
      },
      "outputs": [],
      "source": [
        "#@title Set Params\n",
        "hop_len = 441\n",
        "nfft = 256\n",
        "num_of_bins = 80\n",
        "size_of_slice = 14\n",
        "input_shape = (num_of_bins,size_of_slice+1,3)\n",
        "projection_size = 128\n",
        "temperature = 0.5\n",
        "\n",
        "#calculates 1% of total training data for batch size\n",
        "total_data = train_labels.shape[0]\n",
        "batch_size = math.ceil(train_labels.shape[0]/100)\n",
        "num_of_epochs = 300"
      ]
    },
    {
      "cell_type": "code",
      "execution_count": null,
      "metadata": {
        "id": "7xVI7woGU0BK",
        "cellView": "form"
      },
      "outputs": [],
      "source": [
        "#@title create model\n",
        "\n",
        "#creates the final model for supervised contrastive training\n",
        "model = contrastive_encoder(input_shape, projection_size)\n",
        "model.summary()"
      ]
    },
    {
      "cell_type": "code",
      "execution_count": null,
      "metadata": {
        "id": "amxMW5y9ZF25",
        "cellView": "form"
      },
      "outputs": [],
      "source": [
        "#@title Adds callback\n",
        "cp_callback = tf.keras.callbacks.ModelCheckpoint(filepath=\"/content/drive/MyDrive/Checkpoints\",save_weights_only=True,monitor='val_loss',mode='min',save_best_only=True)"
      ]
    },
    {
      "cell_type": "code",
      "execution_count": null,
      "metadata": {
        "id": "po3gZQwwU25p",
        "cellView": "form"
      },
      "outputs": [],
      "source": [
        "#@title Fit model\n",
        "history = model.fit(x = train_data, y = train_label, batch_size = batch_size, epochs=num_of_epochs, validation_data = val_full, shuffle=True, callbacks=[cp_callback],sample_weight=train_weights)"
      ]
    },
    {
      "cell_type": "code",
      "execution_count": null,
      "metadata": {
        "id": "wOVntjJB63r1",
        "cellView": "form"
      },
      "outputs": [],
      "source": [
        "#@title Load previous weights\n",
        "model.load_weights(\"/content/drive/MyDrive/Checkpoints\")"
      ]
    },
    {
      "cell_type": "code",
      "execution_count": null,
      "metadata": {
        "cellView": "form",
        "id": "BzUJ9FbIp7Yg"
      },
      "outputs": [],
      "source": [
        "#@title Import More libraries for producing grouped vectors\n",
        "from sklearn.manifold import TSNE\n",
        "from sklearn.decomposition import PCA\n",
        "import matplotlib.pyplot as plt\n",
        "import seaborn as sns\n",
        "from sklearn.manifold import MDS\n",
        "%matplotlib inline"
      ]
    },
    {
      "cell_type": "code",
      "execution_count": null,
      "metadata": {
        "cellView": "form",
        "id": "hjcEEM_Jp-WI"
      },
      "outputs": [],
      "source": [
        "#@title Plot embeddings\n",
        "def plot_embeddings(emb,labels):\n",
        "    tl=TSNE()\n",
        "    embedding=tl.fit_transform(emb)\n",
        "    return embedding"
      ]
    },
    {
      "cell_type": "code",
      "execution_count": null,
      "metadata": {
        "cellView": "form",
        "id": "b8iMlqznp_zV"
      },
      "outputs": [],
      "source": [
        "#@title create encoded vectors\n",
        "encoded_vector=model.predict(val_data)\n",
        "print(encoded_vector.shape)"
      ]
    },
    {
      "cell_type": "code",
      "execution_count": null,
      "metadata": {
        "cellView": "form",
        "id": "_frizSk5qBHY"
      },
      "outputs": [],
      "source": [
        "#@title Calculate Tsne\n",
        "embedding = plot_embeddings(encoded_vector,val_label)"
      ]
    },
    {
      "cell_type": "code",
      "execution_count": null,
      "metadata": {
        "cellView": "form",
        "id": "bihodUYPqCaq"
      },
      "outputs": [],
      "source": [
        "#@title Plot Tsne\n",
        "fig = plt.figure(figsize = (10, 10))\n",
        "labels_name = \"/content/drive/MyDrive/Processed_data/labels_1\"\n",
        "sns.scatterplot(x = embedding[:,0], y = embedding[:,1], hue= np.loadtxt(labels_name))\n",
        "plt.show()"
      ]
    },
    {
      "cell_type": "code",
      "execution_count": null,
      "metadata": {
        "id": "20swpV7zqD8D",
        "cellView": "form"
      },
      "outputs": [],
      "source": [
        "#@title Create classifier\n",
        "\n",
        "#If training cross-entropy model set trainable to true\n",
        "new_model = tf.keras.models.Sequential(model.layers[1:-2])\n",
        "final_model = create_classifier(new_model, trainable=False)\n",
        "final_model.summary()"
      ]
    },
    {
      "cell_type": "code",
      "execution_count": null,
      "metadata": {
        "id": "OWvdxhha23hN",
        "cellView": "form"
      },
      "outputs": [],
      "source": [
        "#@title Set callback\n",
        "cp_callback = tf.keras.callbacks.ModelCheckpoint(filepath=\"/content/drive/MyDrive/Checkpoints3\",save_weights_only=True,monitor='val_loss',mode='min',save_best_only=True)"
      ]
    },
    {
      "cell_type": "code",
      "execution_count": null,
      "metadata": {
        "id": "WYu6vHDQ_HgI",
        "cellView": "form"
      },
      "outputs": [],
      "source": [
        "#@title Fit Classifier\n",
        "history = final_model.fit(x = train_data,  y = train_label, batch_size = 256, epochs=25, validation_data = val_full, shuffle=True,callbacks=[cp_callback],sample_weight=train_weights)"
      ]
    },
    {
      "cell_type": "code",
      "execution_count": null,
      "metadata": {
        "id": "Qjyg6uUa5chf",
        "cellView": "form"
      },
      "outputs": [],
      "source": [
        "#@title Load weights\n",
        "final_model.load_weights(\"/content/drive/MyDrive/Checkpoints3\")"
      ]
    },
    {
      "cell_type": "code",
      "execution_count": null,
      "metadata": {
        "id": "KSKlZsKhrEll",
        "cellView": "form"
      },
      "outputs": [],
      "source": [
        "#@title Save Model\n",
        "final_model.save(\"/content/drive/MyDrive/Masters/Models/Hyperparam/temp/temp_0.6\")"
      ]
    }
  ],
  "metadata": {
    "accelerator": "GPU",
    "colab": {
      "background_execution": "on",
      "collapsed_sections": [],
      "machine_shape": "hm",
      "name": "Contrastive_model_and_encodings.ipynb",
      "provenance": [],
      "mount_file_id": "1Fr_74bL3zkAfcYe7-hYApHtXII5rzukb",
      "authorship_tag": "ABX9TyMo4zYRfopzK+FS1FsEVw1y",
      "include_colab_link": true
    },
    "gpuClass": "standard",
    "kernelspec": {
      "display_name": "Python 3",
      "name": "python3"
    },
    "language_info": {
      "name": "python"
    }
  },
  "nbformat": 4,
  "nbformat_minor": 0
}