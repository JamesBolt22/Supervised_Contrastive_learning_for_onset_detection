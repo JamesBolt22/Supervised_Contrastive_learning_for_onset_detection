{
  "cells": [
    {
      "cell_type": "markdown",
      "metadata": {
        "id": "view-in-github",
        "colab_type": "text"
      },
      "source": [
        "<a href=\"https://colab.research.google.com/github/JamesBolt22/Supervised_Contrastive_learning_for_onset_detection/blob/main/Shulter_model.ipynb\" target=\"_parent\"><img src=\"https://colab.research.google.com/assets/colab-badge.svg\" alt=\"Open In Colab\"/></a>"
      ]
    },
    {
      "cell_type": "code",
      "execution_count": null,
      "metadata": {
        "id": "vzfsW0X5UDhb",
        "cellView": "form"
      },
      "outputs": [],
      "source": [
        "#@title Import Libraries\n",
        "%matplotlib inline\n",
        "import matplotlib.pyplot as plt\n",
        "import tensorflow as tf\n",
        "from tensorflow import keras\n",
        "import numpy as np\n",
        "import math\n",
        "import h5py\n",
        "import keras.backend as K\n",
        "import glob"
      ]
    },
    {
      "cell_type": "code",
      "execution_count": null,
      "metadata": {
        "cellView": "form",
        "id": "3o75N0zmUdlK"
      },
      "outputs": [],
      "source": [
        "#@title Plot Spec\n",
        "def plot_spec(spectrogram):\n",
        "    \n",
        "    fig, ax = plt.subplots(nrows=1, sharex=True, figsize=(10,10))\n",
        "    cax = ax.matshow(spectrogram, aspect='auto', origin='lower')"
      ]
    },
    {
      "cell_type": "code",
      "execution_count": null,
      "metadata": {
        "id": "seZvwb9OAFZd",
        "cellView": "form"
      },
      "outputs": [],
      "source": [
        "#@title Load fold data\n",
        "\n",
        "with h5py.File('/content/drive/MyDrive/data_fold_0/train_data.h5', 'r') as hf:\n",
        "    train_data = hf[\"input_data\"][:]\n",
        "with h5py.File('/content/drive/MyDrive/data_fold_0/train_labels_0.020.h5', 'r') as hf:\n",
        "    train_label = hf[\"input_data\"][:]\n",
        "\n",
        "with h5py.File('/content/drive/MyDrive/data_fold_0/val_data.h5', 'r') as hf:\n",
        "    val_data = hf[\"input_data\"][:]\n",
        "with h5py.File('/content/drive/MyDrive/data_fold_0/val_label.h5', 'r') as hf:\n",
        "    val_label = hf[\"input_data\"][:]\n",
        "\n",
        "with h5py.File('/content/drive/MyDrive/data_fold_0/weights_data_0.020.h5', 'r') as hf:\n",
        "    train_weights = hf[\"input_data\"][:]    "
      ]
    },
    {
      "cell_type": "code",
      "execution_count": null,
      "metadata": {
        "cellView": "form",
        "id": "WkMrQT82GcM4"
      },
      "outputs": [],
      "source": [
        "#@title Combine val data\n",
        "val_full = (val_data, val_label)"
      ]
    },
    {
      "cell_type": "code",
      "execution_count": null,
      "metadata": {
        "id": "kNoWhYjUzihB",
        "cellView": "form"
      },
      "outputs": [],
      "source": [
        "#@title Create full model\n",
        "def new_model(input_shape, projection_size):  \n",
        "\n",
        "  inputs = keras.Input(shape=input_shape)\n",
        "\n",
        "  x = tf.keras.layers.Conv2D(filters=10, kernel_size=(3,7), strides=1, activation=\"relu\")(inputs)\n",
        "\n",
        "  x = tf.keras.layers.MaxPooling2D(pool_size=(3,1))(x)\n",
        "\n",
        "  x = tf.keras.layers.Conv2D(filters=20, kernel_size=(3,3), strides=1, activation=\"relu\")(x)\n",
        "\n",
        "  x = tf.keras.layers.MaxPooling2D(pool_size=(3,1))(x)\n",
        "\n",
        "  x = tf.keras.layers.Flatten()(x)\n",
        "\n",
        "  x = tf.keras.layers.Dense(256, activation=\"relu\")(x)\n",
        "  x  = tf.keras.layers.Dropout(0.5)(x)\n",
        "  outputs = tf.keras.layers.Dense(1, activation=\"sigmoid\")(x)\n",
        "\n",
        "  model = tf.keras.Model(inputs=inputs, outputs=outputs)\n",
        "  model.compile(optimizer = tf.keras.optimizers.Adam() ,loss = tf.keras.losses.BinaryCrossentropy(),metrics=tf.keras.metrics.BinaryAccuracy())\n",
        "\n",
        "  return model"
      ]
    },
    {
      "cell_type": "code",
      "execution_count": null,
      "metadata": {
        "id": "iI8u3NStUvcx",
        "cellView": "form"
      },
      "outputs": [],
      "source": [
        "#@title Set Params\n",
        "hop_len = 441\n",
        "nfft = 256\n",
        "num_of_bins = 80\n",
        "size_of_slice = 14\n",
        "input_shape = (num_of_bins,size_of_slice+1,3)\n",
        "batch_size = 256\n",
        "epoch_num = 150"
      ]
    },
    {
      "cell_type": "code",
      "execution_count": null,
      "metadata": {
        "id": "7xVI7woGU0BK",
        "cellView": "form"
      },
      "outputs": [],
      "source": [
        "#@title Create model\n",
        "model = new_model(input_shape, projection_size)\n",
        "model.summary()"
      ]
    },
    {
      "cell_type": "code",
      "execution_count": null,
      "metadata": {
        "id": "WYu6vHDQ_HgI",
        "cellView": "form"
      },
      "outputs": [],
      "source": [
        "#@title Fit model\n",
        "history = model.fit(x = train_data,  y = train_label, batch_size = batch_size, epochs=epoch_num, validation_data = val_full, shuffle=True,sample_weight=train_weights)"
      ]
    },
    {
      "cell_type": "code",
      "execution_count": null,
      "metadata": {
        "id": "KSKlZsKhrEll",
        "cellView": "form"
      },
      "outputs": [],
      "source": [
        "#@title Save model\n",
        "model.save(\"/content/drive/MyDrive/Masters/Models/innacurate/bock_0.12\")"
      ]
    }
  ],
  "metadata": {
    "accelerator": "GPU",
    "colab": {
      "background_execution": "on",
      "collapsed_sections": [],
      "machine_shape": "hm",
      "name": "Shulter_model.ipynb",
      "provenance": [],
      "mount_file_id": "1ZpwHs-FtWspPCl2zG_f0Zm2KuYehiZXK",
      "authorship_tag": "ABX9TyP814TPYJ7p93muQEEJHmy1",
      "include_colab_link": true
    },
    "gpuClass": "standard",
    "kernelspec": {
      "display_name": "Python 3",
      "name": "python3"
    },
    "language_info": {
      "name": "python"
    }
  },
  "nbformat": 4,
  "nbformat_minor": 0
}