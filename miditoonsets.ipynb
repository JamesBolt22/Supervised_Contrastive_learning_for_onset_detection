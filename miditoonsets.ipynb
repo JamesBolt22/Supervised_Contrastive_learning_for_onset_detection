{
  "nbformat": 4,
  "nbformat_minor": 0,
  "metadata": {
    "colab": {
      "name": "miditoonsets.ipynb",
      "provenance": [],
      "mount_file_id": "17uMJr7__z1Wr4FEB33td667h-CdPFHdC",
      "authorship_tag": "ABX9TyPM36mwynBZe3rndB3XvY3b",
      "include_colab_link": true
    },
    "kernelspec": {
      "name": "python3",
      "display_name": "Python 3"
    },
    "language_info": {
      "name": "python"
    }
  },
  "cells": [
    {
      "cell_type": "markdown",
      "metadata": {
        "id": "view-in-github",
        "colab_type": "text"
      },
      "source": [
        "<a href=\"https://colab.research.google.com/github/JamesBolt22/Supervised_Contrastive_learning_for_onset_detection/blob/main/miditoonsets.ipynb\" target=\"_parent\"><img src=\"https://colab.research.google.com/assets/colab-badge.svg\" alt=\"Open In Colab\"/></a>"
      ]
    },
    {
      "cell_type": "code",
      "execution_count": null,
      "metadata": {
        "id": "U0US3axvySJP"
      },
      "outputs": [],
      "source": [
        "#@title Load libraries\n",
        "!pip install pretty_midi\n",
        "import pretty_midi\n",
        "import numpy as np\n",
        "import os"
      ]
    },
    {
      "cell_type": "code",
      "source": [
        "#@title Creates onsets frm midi data \n",
        "names = np.loadtxt(\"/content/drive/MyDrive/Sythn_data/songlist.txt\", dtype=str)\n",
        "\n",
        "for song_name in names:\n",
        "  midi_file_name = \"/content/drive/MyDrive/Sythn_data/midi/\" + song_name + \"/\" + song_name + \".mid\"\n",
        "  pm = pretty_midi.PrettyMIDI(midi_file_name)\n",
        "  test = pm.get_onsets()\n",
        "\n",
        "  bpm = int(song_name[-3:])\n",
        "\n",
        "  final = np.unique(test)*120/bpm\n",
        "  final += 0.008\n",
        "\n",
        "  onset_path = \"/content/drive/MyDrive/Sythn_data/Onsets/\"\n",
        "\n",
        "  save_name = \"/content/drive/MyDrive/Sythn_data/Onsets/\" + song_name + \".onsets\"\n",
        "\n",
        "  np.savetxt(save_name,final)\n"
      ],
      "metadata": {
        "id": "Ta7utdc-yXML"
      },
      "execution_count": null,
      "outputs": []
    }
  ]
}