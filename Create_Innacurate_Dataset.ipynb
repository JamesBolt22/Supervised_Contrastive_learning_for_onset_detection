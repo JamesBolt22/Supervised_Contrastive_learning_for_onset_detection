{
  "nbformat": 4,
  "nbformat_minor": 0,
  "metadata": {
    "colab": {
      "name": "Create_Innacurate_Dataset.ipynb",
      "provenance": [],
      "authorship_tag": "ABX9TyNOLr4A7nY14k1e7gA5niUJ",
      "include_colab_link": true
    },
    "kernelspec": {
      "name": "python3",
      "display_name": "Python 3"
    },
    "language_info": {
      "name": "python"
    }
  },
  "cells": [
    {
      "cell_type": "markdown",
      "metadata": {
        "id": "view-in-github",
        "colab_type": "text"
      },
      "source": [
        "<a href=\"https://colab.research.google.com/github/JamesBolt22/Supervised_Contrastive_learning_for_onset_detection/blob/main/Create_Innacurate_Dataset.ipynb\" target=\"_parent\"><img src=\"https://colab.research.google.com/assets/colab-badge.svg\" alt=\"Open In Colab\"/></a>"
      ]
    },
    {
      "cell_type": "code",
      "source": [
        "#@title Import Libraries\n",
        "%matplotlib inline\n",
        "import matplotlib.pyplot as plt\n",
        "import tensorflow as tf\n",
        "from tensorflow import keras\n",
        "import numpy as np\n",
        "import math\n",
        "import h5py\n",
        "import keras.backend as K\n",
        "import glob"
      ],
      "metadata": {
        "id": "bbM-tHvnmnru"
      },
      "execution_count": null,
      "outputs": []
    },
    {
      "cell_type": "code",
      "source": [
        "#@title Load labels and weights\n",
        "\n",
        "with h5py.File('/content/drive/MyDrive/data_fold_0/train_labels.h5', 'r') as hf:\n",
        "    train_label = hf[\"input_data\"][:]\n",
        "\n",
        "with h5py.File('/content/drive/MyDrive/data_fold_0/weights_data.h5', 'r') as hf:\n",
        "    train_weights = hf[\"input_data\"][:]    "
      ],
      "metadata": {
        "id": "Wp-UgtNunW7k"
      },
      "execution_count": null,
      "outputs": []
    },
    {
      "cell_type": "code",
      "source": [
        "#adds innacuracies to the data sets and saves them\n",
        "\n",
        "def add_inaccuracies(train_label, train_weights):\n",
        "\n",
        "  #Defines the totol number of labels\n",
        "  max_number = train_label.shape[0]\n",
        "\n",
        "  #Sets the max number of labels to changes\n",
        "  percentage_change = 20\n",
        "  number_to_change = math.ceil(max_number/(100/percentage_change))\n",
        "\n",
        "  #produces a random list of label indexes to change \n",
        "  rng = np.random.default_rng()\n",
        "  numbers = rng.choice(max_number , size=number_to_change , replace=False)\n",
        "\n",
        "  #runs through each index and changes the correponding labels\n",
        "  for i in numbers:\n",
        "\n",
        "    if train_label[i] == 1:\n",
        "\n",
        "      train_label[i] = 0\n",
        "      train_weights[i] = 1\n",
        "\n",
        "    elif train_label[i] == 0:\n",
        "\n",
        "      train_label[i] = 1\n",
        "      train_weights[i] = 1\n",
        "\n",
        "  #@title Save innacurate weights and labels\n",
        "  weights_save = \"/content/drive/MyDrive/data_fold_0/weights_data_0.020.h5\"\n",
        "  train_labels_save = \"/content/drive/MyDrive/data_fold_0/train_labels_0.020.h5\"\n",
        "\n",
        "  with h5py.File(weights_save, 'w') as hf:\n",
        "    hf.create_dataset(\"input_data\",  data=train_weights)\n",
        "    hf.close\n",
        "\n",
        "  with h5py.File(train_labels_save, 'w') as hf:\n",
        "    hf.create_dataset(\"input_data\",  data=train_label)\n",
        "    hf.close"
      ],
      "metadata": {
        "id": "cfssLrapmpJT"
      },
      "execution_count": null,
      "outputs": []
    }
  ]
}